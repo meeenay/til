{
 "cells": [
  {
   "cell_type": "code",
   "execution_count": 17,
   "metadata": {},
   "outputs": [
    {
     "name": "stdout",
     "output_type": "stream",
     "text": [
      "4\n",
      "10\n",
      "100 200 300\n",
      "입력받은 값은 : 100 200 300\n",
      "최종결과는 600\n"
     ]
    }
   ],
   "source": [
    "################# function(함수) ##################################\n",
    "\n",
    "### 함수 없이 프로그래밍을 한다면? \n",
    "# for 문으로 sum하기\n",
    "a = [1,2,3,4]\n",
    "mySum = 0\n",
    "\n",
    "for i in a:\n",
    "    mySum +=1\n",
    "    \n",
    "print(mySum)        \n",
    "\n",
    "# python 내장 함수로 sum하기\n",
    "'''코드 간소화, 가독성 향상'''\n",
    "mySum = sum(a)\n",
    "print(mySum) \n",
    "\n",
    "\n",
    "####함수를 활용한 프로그래밍 : 절차적 프로그래밍####\n",
    "# 숫자를 입력받아서  => 단위기능으로 간주 => 함수\n",
    "# 해당 숫자를 모두 더한 후 => 단위기능으로 간주 => 함수\n",
    "# \"결과값은 : xx 입니다\" 형식으로 출력 => 단위기능으로 간주 => 함수\n",
    "# 입력기능 + 연산기능 + 출력기능\n",
    "# 이런 함수기반의 프로그래밍 방식을 \n",
    "# 절차적 프로그래밍(procedural programming)이라고 함\n",
    "# 사람의 사고방식과 유사해 편리함\n",
    "\n",
    "\n",
    "\n",
    "## python에서 함수는 크게 2가지로 구분\n",
    "## 내장함수(sum()), 사용자 정의함수(user define 함수)\n",
    "## 사용자 정의함수를 만드는 keyword는 def\n",
    "\n",
    "# 함수이름은 소문자로 시작(관용적으로)\n",
    "\n",
    "## 함수의 정의와 선언을 구분하자\n",
    "## 함수의 정의(definition) => 함수이름, 인자형태, 인자개수 + 기능구현\n",
    "## 함수의 선언(declaration) => 함수이름, 인자형태, 인자개수 \n",
    "\n",
    "def mySum(a,b,c):\n",
    "    #함수의 기능을 구현해요\n",
    "    total = a+b+c\n",
    "    return total\n",
    "\n",
    "inputValue = input() # 입력받는 내장함수. 무조건 str로 받는다\n",
    "\n",
    "# 숫자 3개를 받아보자\n",
    "print(\"입력받은 값은 : {}\".format(inputValue))\n",
    "# 현재 inputvalue안에 \"100 200 300\"이 있음\n",
    "\n",
    "var1 = inputValue.split(\" \") # inputVlaue를 공백으로 분리하겠다\n",
    "                             # 값을 분리해서 list로 리턴\n",
    "    \n",
    "\n",
    "result = mySum(int(var1[0]), int(var1[1]), int(var1[2]))\n",
    "\n",
    "print(\"최종결과는 {}\".format(result))"
   ]
  },
  {
   "cell_type": "code",
   "execution_count": 21,
   "metadata": {},
   "outputs": [
    {
     "name": "stdout",
     "output_type": "stream",
     "text": [
      "최종결과는 100\n",
      "최종결과는 400\n"
     ]
    }
   ],
   "source": [
    "## 함수 2번째 \n",
    "def mySum2(*args): # args는 내가 지정한 이름이고, tuple로 간주됨\n",
    "                    # args => (10,20,30,40)\n",
    "    # 전달받은 모든 값들을 더해서 리턴\n",
    "    # 정해진 인자 수가 없음\n",
    "    k = 0 \n",
    "    for i in range(len(args)):\n",
    "        k+=args[i]\n",
    "    return k\n",
    "\n",
    "    \n",
    "total = mySum2(10,20,30,40)\n",
    "print(\"최종결과는 {}\".format(total))\n",
    "\n",
    "total = mySum2(10,20,30,40,300)\n",
    "print(\"최종결과는 {}\".format(total))"
   ]
  },
  {
   "cell_type": "code",
   "execution_count": 30,
   "metadata": {},
   "outputs": [
    {
     "name": "stdout",
     "output_type": "stream",
     "text": [
      "300 20000\n",
      "300\n"
     ]
    }
   ],
   "source": [
    "## 함수를 하나 정의해요\n",
    "## 숫자 2개 받아서 두개의 합과 두개의 곱을 리턴할거야\n",
    "## tupel을 이용해서 마치 함수결과가 2개 return되는 것 처럼\n",
    "## 사용할 수 있다 \n",
    "\n",
    "##tuple\n",
    "myTu = (10, 20, 30)\n",
    "myTu = 10, 20, 30 # 튜플만 괄호 생략할 수 있다\n",
    "\n",
    "def multi_process(x,y):\n",
    "    result1 = x + y\n",
    "    result2 = x * y\n",
    "    return result1, result2 # 모든 함수는 값을 1개만 return 가능  \n",
    "                            # 리스트나 튜플 등에 넣어 반환\n",
    "                            # 그런데 튜플은 생략이 가능하므로 \n",
    "                            # 값 2개를 반환하는 것 처럼 보임\n",
    "            \n",
    "a,b = multi_process(100,200)\n",
    "print(a,b)\n",
    "print(a)"
   ]
  },
  {
   "cell_type": "code",
   "execution_count": 33,
   "metadata": {},
   "outputs": [
    {
     "name": "stdout",
     "output_type": "stream",
     "text": [
      "6\n",
      "103\n"
     ]
    }
   ],
   "source": [
    "## 사용자 정의함수를 만든다\n",
    "## default parameter \n",
    "## parameter는 함수의 인수를 말함\n",
    "\n",
    "def mySum(a,b,c=100): # 마지막 parameter만 default를 지정 할 수 있음\n",
    "                      # c 값이 들어오지 않으면 100을 사용\n",
    "        return a+b+c\n",
    "\n",
    "total = mySum(1,2,3) # 6\n",
    "print(total)\n",
    "\n",
    "total = mySum(1,2)  #103\n",
    "print(total)"
   ]
  },
  {
   "cell_type": "code",
   "execution_count": 36,
   "metadata": {},
   "outputs": [
    {
     "name": "stdout",
     "output_type": "stream",
     "text": [
      "30\n",
      "100\n",
      "30\n",
      "30\n"
     ]
    }
   ],
   "source": [
    "# 변수의 Scope(영역) \n",
    "\n",
    "tmp = 100   # Global variable(전역변수)\n",
    "\n",
    "def myFunc(x):  # 함수안에서 선언된 변수\n",
    "                # local variable(지역변수)\n",
    "                # local variable은 함수가 호출될 때 생성\n",
    "                # 함수 수행 끝나면 없어짐\n",
    "    tmp = 10\n",
    "    tmp += x\n",
    "    \n",
    "    return tmp\n",
    "\n",
    "print(myFunc(20)) # 30  # 지역변수인 tmp는 이 함수가 여기서 호출 될 때 생성\n",
    "                        # 되었다가 20을 반환하고 사라진다\n",
    "print(tmp)        # 30 이렇게 출력되지 않는다\n",
    "    \n",
    "    \n",
    "    \n",
    "## 만약 함수 내에서 전역변수인 tmp를 사용하려면? \n",
    "# 좋지 않은 함수이다 \n",
    "# 이렇게 외부와 내부가 연결되어있는 것을 보고 \n",
    "# 스파게티 코드라고 하는데\n",
    "# (1) 외부와 연결되어 있기 때문에 재사용이 어렵고 \n",
    "# (2) 함수에서 실수로 외부 자료를 변경할 위험이 있음 \n",
    "\n",
    "def myFunc(x):  \n",
    "    \n",
    "    global tmp    # tmp 앞에 global를 붙여 선언 후 사용  \n",
    "    tmp = 10    \n",
    "    tmp += x\n",
    "    \n",
    "    return tmp\n",
    "\n",
    "print(myFunc(20)) # 30  # 지역변수인 tmp는 이 함수가 여기서 호출 될 때 생성\n",
    "                        # 되었다가 20을 반환하고 사라진다\n",
    "print(tmp)        # 30 이렇게 출력되지 않는다\n"
   ]
  },
  {
   "cell_type": "code",
   "execution_count": 44,
   "metadata": {},
   "outputs": [
    {
     "name": "stdout",
     "output_type": "stream",
     "text": [
      "10\n",
      "False\n",
      "True\n",
      "1\n",
      "3.0\n",
      "이것은 소리없는 아우성\n",
      "이것은소리없는아우성\n"
     ]
    }
   ],
   "source": [
    "## 사용자 정의 함수는 위에서 설명한 그 방식대로 이용하면 된다\n",
    "## 프로그램을 작성할 때 함수를 어떻게 정의해서 사용할\n",
    "## 것인가를 고민해서 작성\n",
    "\n",
    "## 나머지는 내장함수로, python이 제공해주는 함수\n",
    "## int() : 인자로 들어온 놈을 정수로 변환\n",
    "## abs() : 절대값을 리턴 \n",
    "print(abs(-10))\n",
    "\n",
    "## all() : 인자로 들어온 값이 모두 True일 경우 True리턴하는 논리함수\n",
    "#          인자로 반복가능한 타입이 와야한다\n",
    "#          list or tuple or 문자열. integer는 불가 \n",
    "#          인자로 들어온 값이 모두 True일 경우 True리턴\n",
    "a = [True, 100, {}, 3.14] # True, True, Flase, True ==> 결과 False\n",
    "print(all(a))\n",
    "\n",
    "## any() : 인자로 들어온 값중 True가 있으면 True리턴하는 논리함수\n",
    "#          인자로 반복가능한 타입이 와야함 \n",
    "a = [True, 100, {}, 3.14]\n",
    "print(any(a))\n",
    "\n",
    "\n",
    "## len() : 길이구하는 내장함수\n",
    "## list() : 리스트 만들어주는 함수\n",
    "## tuple() : tuple로 변경\n",
    "## str() : 문자열로 변경\n",
    "## type() : 인자로 들어온 데이터의 type을 return\n",
    "## max(), min() : 최대 최소를 구해준다\n",
    "a = [1,2,3,4,5]\n",
    "print(min(a))\n",
    "\n",
    "# sum(),max(),min(), (mean은 제공X)\n",
    "print(sum(a)/len(a))\n",
    "\n",
    "# sorted() : 오름차순으로 정렬해주는 함수\n",
    "\n",
    "# join 함수\n",
    "a = [\"이것은\", \"소리없는\", \"아우성\"]\n",
    "# \"이것은 소리없는 아우성\" 으로 만들기 위해서는\n",
    "# join()함수를 이용하면 편함\n",
    "print(\" \".join(a))   # 이것은 소리없는 아우성\n",
    "print(\"\".join(a))    # 이것은소리없는아우성\n",
    "\n",
    "\n",
    "\n"
   ]
  }
 ],
 "metadata": {
  "kernelspec": {
   "display_name": "[CPU_ENV]",
   "language": "python",
   "name": "cpu_env"
  },
  "language_info": {
   "codemirror_mode": {
    "name": "ipython",
    "version": 3
   },
   "file_extension": ".py",
   "mimetype": "text/x-python",
   "name": "python",
   "nbconvert_exporter": "python",
   "pygments_lexer": "ipython3",
   "version": "3.6.9"
  }
 },
 "nbformat": 4,
 "nbformat_minor": 2
}
