{
 "cells": [
  {
   "cell_type": "code",
   "execution_count": 50,
   "metadata": {},
   "outputs": [
    {
     "name": "stdout",
     "output_type": "stream",
     "text": [
      "31875000\n",
      "Wall time: 145 ms\n"
     ]
    }
   ],
   "source": [
    "%%time\n",
    "## 문제 11\n",
    "\n",
    "## 세 개의 자연수  a, b, c\n",
    "## a**2 + b**2 = c**2 (3,4,5)    \n",
    "## 이런 특징을 가지는 수에 대해 \n",
    "## a < b <c\n",
    "\n",
    "# a + b + c = 1000인 피타고라스 수는 1개만 존재\n",
    "# 이때 a * b * c?\n",
    "import math\n",
    "\n",
    "# for b in range(1,1000):\n",
    "#     for a in range(1,1000):\n",
    "#         if a<b:                          \n",
    "#             if a**2+b**2==(1000-(a+b))**2:\n",
    "#                 print([a,b,1000-(a+b)])\n",
    "#                 print(a*b*(1000-(a+b))) \n",
    "\n",
    "for b in range(1,500):\n",
    "    for a in range(1,b+1):\n",
    "        c = 1000-(a+b)\n",
    "        if a**2+b**2==(1000-a-b)**2:\n",
    "            print(a*b*c) "
   ]
  }
 ],
 "metadata": {
  "kernelspec": {
   "display_name": "[CPU_ENV]",
   "language": "python",
   "name": "cpu_env"
  },
  "language_info": {
   "codemirror_mode": {
    "name": "ipython",
    "version": 3
   },
   "file_extension": ".py",
   "mimetype": "text/x-python",
   "name": "python",
   "nbconvert_exporter": "python",
   "pygments_lexer": "ipython3",
   "version": "3.6.9"
  }
 },
 "nbformat": 4,
 "nbformat_minor": 2
}
