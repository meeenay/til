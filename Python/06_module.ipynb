{
 "cells": [
  {
   "cell_type": "code",
   "execution_count": 4,
   "metadata": {},
   "outputs": [],
   "source": [
    "######## module ######\n",
    "\n",
    "'''\n",
    "python은 module을 사용한다\n",
    "module : 하나의 파이선 파일 => 변수, 함수, class 정의가 들어간다\n",
    "python의 module은 다른 python 프로그램에서 불러와 사용할 수 있는\n",
    "파이선 파일을 지칭함\n",
    "\n",
    "따라서 모든 파일은 module이 될 수 있다\n",
    "\n",
    "'''\n",
    "'''\n",
    "우리가 생성한 module을 어디에 저장해 놓아야 할까?\n",
    "'''\n",
    "import sys        #sys라는 묘듈을 불러와서 사용할 것이다 \n",
    "                    #system 설정시 사용 \n",
    "    \n",
    "sys.path.append(\"C:/python_Lib\")    # 다음의 경로를 system 경로로 지정해라\n",
    "                                    # sys는 list인 것이고, 여기에 하나의 경로를 추가하는 것\n",
    "                                    # 모듈을 이제 저 폴더이 넣어서 사용할 수 있게 됨\n",
    "\n",
    "        \n",
    "# 모듈을 만들어 python_Lib 안에 넣어보자\n",
    "# 주피터노트북 초기화면에서 text 파일을 하나 생성하고, 이름을 파이선 확장자로 바꿔준다\n",
    "# module1.py\n",
    "\n",
    "# 만든 모듈을 지정한 경로에 옮겨 저장한다(lib으로)\n",
    "# 그리고 사용해보자 ( 아래 두 셀 확인 )\n",
    "\n",
    "\n",
    "\n",
    "\n",
    "''' \n",
    "위에서 사용한 system path 설정은 jupyter notebook을 킬때마다 재실행 해야한다.\n",
    "이 방법을 대신하여\n",
    "\n",
    "환경변수 PYTHONPATH라는걸 만들어서 여기에 module을\n",
    "넣어놓으면 프로그램 어디에서나 사용할 수 있다\n",
    "\n",
    "cmd > control path > 고급시스템 설정 > 환경변수 > 새로 변수 생성 > 경로에 python_Lib를 지정\n",
    "\n",
    "'''\n"
   ]
  },
  {
   "cell_type": "code",
   "execution_count": 20,
   "metadata": {},
   "outputs": [
    {
     "name": "stdout",
     "output_type": "stream",
     "text": [
      "3.141592\n",
      "30\n"
     ]
    }
   ],
   "source": [
    "'''\n",
    "module을 사용하는 형식은 \n",
    "import 모듈명(파일명)\n",
    "\n",
    "'''\n",
    "\n",
    "# import module1   # 확장자는 쓰지 않는다\n",
    "\n",
    "# print(module1.module_PI\n",
    "# print(module1.mySum(10,20))\n",
    "      \n",
    "'''\n",
    "긴 module명을 계속 반복해야하는 번거로움을 제거하기 위해 \n",
    "allias를 이용해 다음과 같은 처리를 한다\n",
    "'''\n",
    "\n",
    "## alias\n",
    "\n",
    "# import module1 as m  # m이라고 별명 붙여줌\n",
    "# print(m.module_PI)\n",
    "# print(m.mySum(10,20))\n",
    "\n",
    "\n",
    "'''\n",
    "위는 파일 자체를 import한 것이고, \n",
    "파일이나 함수를 개별적으로 불러오는 방법은 다음과 같다\n",
    "\n",
    "from 모듈이름 import 모듈함수(변수, 클래스)'''\n",
    "\n",
    "from module1 import module_PI\n",
    "from module1 import *          # 모두 다 가져오라\n",
    "print(module_PI)\n",
    "print(mySum(10,20))\n",
    "####"
   ]
  },
  {
   "cell_type": "code",
   "execution_count": 24,
   "metadata": {},
   "outputs": [
    {
     "name": "stdout",
     "output_type": "stream",
     "text": [
      "3.141592\n",
      "3.141592\n",
      "30\n"
     ]
    }
   ],
   "source": [
    "#### package ######\n",
    "\n",
    "'''\n",
    "package: \".\" 기호를 이용해 module을 계층적으로 관리 -> 폴더구조\n",
    "package는 물리적으로 표현할 때 폴더로 간주된다\n",
    "          논리적으로는 module을 계층적으로 관리하는 체계\n",
    "\n",
    "예를 들어 \n",
    "A.B 라고 할때 A: package,  B: module\n",
    "'''\n",
    "\n",
    "# import myPackage.module1\n",
    "# print(myPackage.module1.module_PI)\n",
    "\n",
    "'''\n",
    "번거로우니 다음과 같이 간소화\n",
    "'''\n",
    "from myPackage import module1\n",
    "print(module1.module_PI)\n",
    "\n",
    "\n",
    "from myPackage.module1 import mySum\n",
    "from myPackage.module1 import *\n",
    "print(module_PI)\n",
    "print(mySum(10,20))"
   ]
  }
 ],
 "metadata": {
  "kernelspec": {
   "display_name": "[CPU_ENV]",
   "language": "python",
   "name": "cpu_env"
  },
  "language_info": {
   "codemirror_mode": {
    "name": "ipython",
    "version": 3
   },
   "file_extension": ".py",
   "mimetype": "text/x-python",
   "name": "python",
   "nbconvert_exporter": "python",
   "pygments_lexer": "ipython3",
   "version": "3.6.9"
  }
 },
 "nbformat": 4,
 "nbformat_minor": 2
}
