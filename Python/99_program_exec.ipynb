{
 "cells": [
  {
   "cell_type": "code",
   "execution_count": 28,
   "metadata": {},
   "outputs": [
    {
     "name": "stdout",
     "output_type": "stream",
     "text": [
      "233168\n",
      "233168\n"
     ]
    }
   ],
   "source": [
    "### 문제 1.\n",
    "### 10보다 작은 자연수 중에서 3또는5의 배수는\n",
    "### 3,5,6,9 가 존재한다! 이것들의 합은 23입니다.\n",
    "\n",
    "\n",
    "# 1000보다 작은 자연수 중에서 3 또는 5의 배수를 구해서 모두 합하면 얼마인가?\n",
    "# 3의배수 더하고, 5의 배수 더해서 15의 배수를 빼주자?\n",
    "\n",
    "result = 0\n",
    "\n",
    "for k in range(1000) :\n",
    "    if k%3 == 0 :\n",
    "        result = result + k\n",
    "    elif k % 5 == 0 :\n",
    "        result = result + k\n",
    "#     elif k % 15 == 0 :\n",
    "#         result = result - k    \n",
    "\n",
    "    \n",
    "print(result);\n",
    "\n",
    "\n",
    "i= 1\n",
    "result = 0\n",
    "\n",
    "while i < 1000 :\n",
    "    if i%3 == 0 :\n",
    "        result = result + i\n",
    "    elif i % 5 == 0 :\n",
    "        result = result + i\n",
    "    i = i+1\n",
    "    \n",
    "print(result)\n",
    "\n",
    "# 정답 : 233168\n"
   ]
  },
  {
   "cell_type": "code",
   "execution_count": 45,
   "metadata": {
    "scrolled": true
   },
   "outputs": [
    {
     "ename": "SyntaxError",
     "evalue": "invalid syntax (<ipython-input-45-b47d311452b9>, line 31)",
     "output_type": "error",
     "traceback": [
      "\u001b[1;36m  File \u001b[1;32m\"<ipython-input-45-b47d311452b9>\"\u001b[1;36m, line \u001b[1;32m31\u001b[0m\n\u001b[1;33m    if myList[]%2==0\u001b[0m\n\u001b[1;37m              ^\u001b[0m\n\u001b[1;31mSyntaxError\u001b[0m\u001b[1;31m:\u001b[0m invalid syntax\n"
     ]
    }
   ],
   "source": [
    "##### 문제 2.\n",
    "### 피보나치 수열의 각 항은 바로 앞의 항 2개를 더한 것이 된다\n",
    "### 1과 2로 시작하는 피보나치 수열은\n",
    "### 1,2,3,5,8,13,21,34... \n",
    "\n",
    "### 짝수이면서 4백만 이하의 모든 항을 더하면 얼마일까?\n",
    "\n",
    "i = 1\n",
    "j = 2\n",
    "k = 0\n",
    "reList = list([2])\n",
    "\n",
    "while k <= 4000000 : \n",
    "    k = i + j\n",
    "    i = j\n",
    "    j = k\n",
    "    if k%2==0 :\n",
    "        reList.append(k)\n",
    "        \n",
    "print(sum(reList))\n",
    "\n",
    "# 정답: 4613732\n",
    "\n",
    "\n",
    "#####################선생님 solution############\n",
    "\n",
    "myList = [1,2] # list에 더한 결과를 추가하면서 수열 안성\n",
    "\n",
    "while myList[-1] <=4000000:\n",
    "    myList.append(myList[-1] + myList[-2])\n",
    "myList\n"
   ]
  },
  {
   "cell_type": "code",
   "execution_count": 95,
   "metadata": {},
   "outputs": [
    {
     "name": "stdout",
     "output_type": "stream",
     "text": [
      "i가 7개로 가장 많습니다\n",
      "c가 5개로 가장 많습니다\n",
      "i 가  7 개로 가장 많습니다.\n"
     ]
    }
   ],
   "source": [
    "## 문제 3 .\n",
    "## 알파벳 대소문자로 되어 있는 문자열이 주어진다\n",
    "## 이 문자열에서 가장 많이 사용된 알파벳이 \n",
    "## 무엇인지 출력하는 프로그램을 작성하라\n",
    "## 단, 대소문자 구별하지 않는다.\n",
    "# 만약 동률이 존재하면, 알파벳 순서가 제일 앞에 있는 알파벳을 출력\n",
    "# 공백제외\n",
    "## 문장 1: \"This is a sample Program. missisippi river\"\n",
    "\n",
    "\n",
    "sent = \"This is a sample Program. missisippi river\"\n",
    "\n",
    "alph = ''\n",
    "compare = 0\n",
    "for k in map(chr, range(97, 123)):\n",
    "    freq =  sent.lower().count(k)\n",
    "    if compare < freq:\n",
    "        compare = freq\n",
    "        alph = k\n",
    "        \n",
    "print(\"{}가 {}개로 가장 많습니다\".format(alph,compare))\n",
    "\n",
    "\n",
    "# 문장 2: abcdabcdababccddcd\n",
    "\n",
    "sentence = \"abcdabcdababccddcd\"\n",
    "\n",
    "alph = ''\n",
    "compare = 0\n",
    "for k in map(chr, range(97, 123)):\n",
    "    freq =  sentence.lower().count(k)\n",
    "    if compare < freq:\n",
    "        compare = freq\n",
    "        alph = k\n",
    "        \n",
    "print(\"{}가 {}개로 가장 많습니다\".format(alph,compare))       \n",
    "        \n",
    "\n",
    "################ 정민이 ####################################\n",
    "\n",
    "## \"This is a sample Program mississippi river\"\n",
    "## \"abcdabcdababccddcd\"\n",
    "sentence = \"This is a sample Program mississippi river\";\n",
    "# sentence = \"abcdabcdababccddcd\"\n",
    "sentence = sentence.replace(\" \",\"\")\n",
    "sentence = sentence.lower()\n",
    "max =0\n",
    "maxStr = \"\"\n",
    "for i in range(len(sentence)):\n",
    "    new = sentence.count(sentence[i]);\n",
    "    if max < new:\n",
    "        max=new\n",
    "        maxStr = sentence[i];\n",
    "    elif max == new:\n",
    "        if maxStr > sentence[i]:\n",
    "            maxStr=sentence[i]\n",
    "            \n",
    "print(maxStr,\"가 \",max,\"개로 가장 많습니다.\")\n",
    "\n"
   ]
  }
 ],
 "metadata": {
  "kernelspec": {
   "display_name": "[CPU_ENV]",
   "language": "python",
   "name": "cpu_env"
  },
  "language_info": {
   "codemirror_mode": {
    "name": "ipython",
    "version": 3
   },
   "file_extension": ".py",
   "mimetype": "text/x-python",
   "name": "python",
   "nbconvert_exporter": "python",
   "pygments_lexer": "ipython3",
   "version": "3.6.9"
  }
 },
 "nbformat": 4,
 "nbformat_minor": 2
}
