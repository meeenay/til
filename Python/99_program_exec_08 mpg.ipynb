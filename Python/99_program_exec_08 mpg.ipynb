{
 "cells": [
  {
   "cell_type": "code",
   "execution_count": 1,
   "metadata": {},
   "outputs": [
    {
     "data": {
      "text/plain": [
       "'\\n\\nmpg data set에 대해서 다음의 내용을 수행하세요\\n\\n~~~\\n\\n# 1. displ(배기량)이 4 이하인 자동차와 5 이상인 자동차 중 어떤 자동차의 hwy(고속도로 연비)가 평균적으로 더 높은지 확인하세요.\\n\\n# 2. 자동차 제조 회사에 따라 도시 연비가 다른지 알아보려고 한다. \"audi\"와 \"toyota\" 중 어느 manufacturer(제조회사)의 cty(도시 연비)가 평균적으로 더 높은지 확인하세요.\\n\\n# 3. \"chevrolet\", \"ford\", \"honda\" 자동차의 고속도로 연비 평균을 알아보려고 한다. 이 회사들의 데이터를 추출한 후 hwy(고속도로 연비) 전체 평균을 구하세요.\\n\\n# 4. \"audi\"에서 생산한 자동차 중에 어떤 자동차 모델의 hwy(고속도로 연비)가 높은지 알아보려고 한다. \"audi\"에서 생산한 자동차 중 hwy가 1~5위에 해당하는 자동차의 데이터를 출력하세요.\\n\\n# 5. mpg 데이터는 연비를 나타내는 변수가 2개입니다. 두 변수를 각각 활용하는 대신 하나의 통합 연비 변수를 만들어 사용하려 합니다. 평균 연비 변수는 두 연비(고속도로와 도시)의 평균을 이용합니다. 회사별로 \"suv\" 자동차의 평균 연비를 구한후 내림차순으로 정렬한 후 1~5위까지 데이터를 출력하세요.\\n\\n# 6. mpg 데이터의 class는 \"suv\", \"compact\" 등 자동차의 특징에 따라 일곱 종류로 분류한 변수입니다. 어떤 차종의 도시 연비가 높은지 비교하려 합니다. class별 cty 평균을 구하고 cty 평균이 높은 순으로 정렬해 출력하세요.\\n\\n# 7. 어떤 회사 자동차의 hwy(고속도로 연비)가 가장 높은지 알아보려 합니다. hwy(고속도로 연비) 평균이 가장 높은 회사 세 곳을 출력하세요.\\n\\n# 8. 어떤 회사에서 \"compact\" 차종을 가장 많이 생산하는지 알아보려고 합니다. 각 회사별 \"compact\" 차종 수를 내림차순으로 정렬해 출력하세요.\\n\\n~~~\\n\\n\\n'"
      ]
     },
     "execution_count": 1,
     "metadata": {},
     "output_type": "execute_result"
    }
   ],
   "source": [
    "'''\n",
    "\n",
    "mpg data set에 대해서 다음의 내용을 수행하세요\n",
    "\n",
    "~~~\n",
    "\n",
    "# 1. displ(배기량)이 4 이하인 자동차와 5 이상인 자동차 중 어떤 자동차의 hwy(고속도로 연비)가 평균적으로 더 높은지 확인하세요.\n",
    "\n",
    "# 2. 자동차 제조 회사에 따라 도시 연비가 다른지 알아보려고 한다. \"audi\"와 \"toyota\" 중 어느 manufacturer(제조회사)의 cty(도시 연비)가 평균적으로 더 높은지 확인하세요.\n",
    "\n",
    "# 3. \"chevrolet\", \"ford\", \"honda\" 자동차의 고속도로 연비 평균을 알아보려고 한다. 이 회사들의 데이터를 추출한 후 hwy(고속도로 연비) 전체 평균을 구하세요.\n",
    "\n",
    "# 4. \"audi\"에서 생산한 자동차 중에 어떤 자동차 모델의 hwy(고속도로 연비)가 높은지 알아보려고 한다. \"audi\"에서 생산한 자동차 중 hwy가 1~5위에 해당하는 자동차의 데이터를 출력하세요.\n",
    "\n",
    "# 5. mpg 데이터는 연비를 나타내는 변수가 2개입니다. 두 변수를 각각 활용하는 대신 하나의 통합 연비 변수를 만들어 사용하려 합니다. 평균 연비 변수는 두 연비(고속도로와 도시)의 평균을 이용합니다. 회사별로 \"suv\" 자동차의 평균 연비를 구한후 내림차순으로 정렬한 후 1~5위까지 데이터를 출력하세요.\n",
    "\n",
    "# 6. mpg 데이터의 class는 \"suv\", \"compact\" 등 자동차의 특징에 따라 일곱 종류로 분류한 변수입니다. 어떤 차종의 도시 연비가 높은지 비교하려 합니다. class별 cty 평균을 구하고 cty 평균이 높은 순으로 정렬해 출력하세요.\n",
    "\n",
    "# 7. 어떤 회사 자동차의 hwy(고속도로 연비)가 가장 높은지 알아보려 합니다. hwy(고속도로 연비) 평균이 가장 높은 회사 세 곳을 출력하세요.\n",
    "\n",
    "# 8. 어떤 회사에서 \"compact\" 차종을 가장 많이 생산하는지 알아보려고 합니다. 각 회사별 \"compact\" 차종 수를 내림차순으로 정렬해 출력하세요.\n",
    "\n",
    "~~~\n",
    "\n",
    "\n",
    "'''"
   ]
  },
  {
   "cell_type": "code",
   "execution_count": null,
   "metadata": {},
   "outputs": [],
   "source": []
  },
  {
   "cell_type": "code",
   "execution_count": 2,
   "metadata": {},
   "outputs": [],
   "source": [
    "# 가져오기\n",
    "import mpgclass as m\n",
    "file = open(\"mpg.txt\",\"r\")\n",
    "\n",
    "# from python_Lib import mpgclass as m\n",
    "\n",
    "mpgdata= []\n",
    "\n",
    "while True:\n",
    "    line = file.readline();\n",
    "    if line ==\"\":\n",
    "        break;\n",
    "    line = line.strip(\"\\n\")\n",
    "    llis = line.split(\",\")\n",
    "    mpgdata.append(m.Mpg(llis[0],llis[1],llis[2],llis[3],llis[4],llis[5],llis[6],llis[7],llis[8],llis[9],llis[10]))\n",
    "    \n",
    "# for idx in mpgdata:\n",
    "#     idx.print_mpg()\n",
    "\n"
   ]
  },
  {
   "cell_type": "code",
   "execution_count": null,
   "metadata": {},
   "outputs": [],
   "source": []
  },
  {
   "cell_type": "code",
   "execution_count": 3,
   "metadata": {},
   "outputs": [
    {
     "name": "stdout",
     "output_type": "stream",
     "text": [
      "25.963\n",
      "18.079\n",
      "배기량이 4이하인 차량 평균이 7.884 더 높다\n"
     ]
    }
   ],
   "source": [
    "# 1. displ(배기량)이 4 이하인 자동차와 5 이상인 자동차 중 \n",
    "# 어떤 자동차의 hwy(고속도로 연비)가 평균적으로 더 높은지 확인하세요.\n",
    "\n",
    "\n",
    "# displ 4이하 평균 hwy연비\n",
    "displAcc=0\n",
    "nCount=0\n",
    "for i in range(len(mpgdata)):\n",
    "    if mpgdata[i].mdispl<=4:\n",
    "        displAcc = displAcc + mpgdata[i].mHwy\n",
    "        nCount = nCount+1\n",
    "\n",
    "avg_effi4 = round(displAcc/nCount,3)\n",
    "print(avg_effi4)\n",
    "\n",
    "# displ 5이상 평균 hwy연비\n",
    "displAcc=0\n",
    "nCount=0\n",
    "for i in range(len(mpgdata)):\n",
    "    if mpgdata[i].mdispl>=5:\n",
    "        displAcc = displAcc + mpgdata[i].mHwy\n",
    "        nCount = nCount+1\n",
    "\n",
    "avg_effi5 = round(displAcc/nCount,3)\n",
    "print(avg_effi5)\n",
    "\n",
    "if avg_effi4>avg_effi5:\n",
    "    print(\"배기량이 4이하인 차량 평균이 {} 더 높다\".format(avg_effi4-avg_effi5))\n",
    "elif avg_effi4<avg_effi5:\n",
    "    print(\"배기량이 5이상인 차량 평균이 {} 더 높다\".format(avg_effi5-avg_effi5))"
   ]
  },
  {
   "cell_type": "code",
   "execution_count": 4,
   "metadata": {},
   "outputs": [
    {
     "name": "stdout",
     "output_type": "stream",
     "text": [
      "toyota 의 평균 도시연비가 0.918 만큼 더 높다\n"
     ]
    }
   ],
   "source": [
    "# 2. 자동차 제조 회사에 따라 도시 연비가 다른지 알아보려고 한다.\n",
    "# \"audi\"와 \"toyota\" 중 어느 manufacturer(제조회사)의 cty(도시 연비)가 평균적으로 더 높은지 확인하세요.\n",
    "\n",
    "\n",
    "def cal_avgcty(x):\n",
    "    ctyAcc=0\n",
    "    nCount=0\n",
    "    for i in range(len(mpgdata)):\n",
    "        if mpgdata[i].mManu == x:\n",
    "            ctyAcc = ctyAcc + mpgdata[i].mCty\n",
    "            nCount = nCount+1\n",
    "    avg = ctyAcc/nCount\n",
    "    return avg\n",
    "\n",
    "\"\"\" 아래 함수 에러남 함수 인자가 text이면 format이 안 먹나 봄 \n",
    "\n",
    "def comparebyman(x,y):\n",
    "    if cal_avgcty(x)>cal_avgcty(y):\n",
    "        print(\"{} 평균 도시연비가 {}보다 {}더 높다\").format(x,y,cal_avgcty(x)-cal_avgcty(y))\n",
    "    elif cal_avgcty(x)<cal_avgcty(y):\n",
    "        # print(\"헤헤\")\n",
    "        print(\"{} 평균 도시연비가 {}보다 더 높다\").format(x,y,(cal_avgcty(x)-cal_avgcty(y)))\n",
    "    else:\n",
    "         print(\"{}와 {}의 평균 도시연비가 서로 같다\") \"\"\"\n",
    "\n",
    "\n",
    "def comparebyman(x,y):\n",
    "    if cal_avgcty(x)>cal_avgcty(y):\n",
    "        print(x,\"의 평균 도시연비가\", cal_avgcty(x)-cal_avgcty(y), \"만큼 더 높다\")\n",
    "    elif cal_avgcty(x)<cal_avgcty(y):\n",
    "        # print(\"헤헤\")\n",
    "        print(y, \"의 평균 도시연비가\", round(cal_avgcty(y)-cal_avgcty(x),3), \"만큼 더 높다\")\n",
    "    else:\n",
    "         print(\"평균 도시 연비가 같다\")\n",
    "         \n",
    "        \n",
    "comparebyman(\"audi\",\"toyota\")"
   ]
  },
  {
   "cell_type": "code",
   "execution_count": 5,
   "metadata": {},
   "outputs": [
    {
     "name": "stdout",
     "output_type": "stream",
     "text": [
      "세 브랜드의 고속도로 연비 평균은  23.44 입니다.\n"
     ]
    }
   ],
   "source": [
    "# 3. \"chevrolet\", \"ford\", \"honda\" 자동차의 고속도로 연비 평균을 알아보려고 한다. \n",
    "# 이 회사들의 데이터를 추출한 후 hwy(고속도로 연비) 전체 평균을 구하세요.\n",
    "\n",
    "\n",
    "def cal_avgHwy(x,y,z):\n",
    "    hwyAcc=0\n",
    "    nCount=0\n",
    "    for i in range(len(mpgdata)):\n",
    "        if mpgdata[i].mManu == x or y or z:\n",
    "            hwyAcc = hwyAcc + mpgdata[i].mHwy\n",
    "            nCount = nCount+1\n",
    "    avg = hwyAcc/nCount\n",
    "    return avg\n",
    "\n",
    "\n",
    "print(\"세 브랜드의 고속도로 연비 평균은 \",round(cal_avgHwy(\"chevrolet\",\"ford\",\"honda\"),3),\"입니다.\")\n",
    "\n",
    "\n",
    "\n"
   ]
  },
  {
   "cell_type": "code",
   "execution_count": 8,
   "metadata": {},
   "outputs": [
    {
     "ename": "TypeError",
     "evalue": "'int' object is not iterable",
     "output_type": "error",
     "traceback": [
      "\u001b[1;31m---------------------------------------------------------------------------\u001b[0m",
      "\u001b[1;31mTypeError\u001b[0m                                 Traceback (most recent call last)",
      "\u001b[1;32m<ipython-input-8-e3b0579bfa1a>\u001b[0m in \u001b[0;36m<module>\u001b[1;34m\u001b[0m\n\u001b[0;32m     36\u001b[0m \u001b[1;33m\u001b[0m\u001b[0m\n\u001b[0;32m     37\u001b[0m \u001b[1;31m# m.print_all(result)\u001b[0m\u001b[1;33m\u001b[0m\u001b[1;33m\u001b[0m\u001b[1;33m\u001b[0m\u001b[0m\n\u001b[1;32m---> 38\u001b[1;33m \u001b[1;32mfor\u001b[0m \u001b[0mi\u001b[0m \u001b[1;32min\u001b[0m \u001b[0mlen\u001b[0m\u001b[1;33m(\u001b[0m\u001b[0mresult\u001b[0m\u001b[1;33m)\u001b[0m\u001b[1;33m:\u001b[0m\u001b[1;33m\u001b[0m\u001b[1;33m\u001b[0m\u001b[0m\n\u001b[0m\u001b[0;32m     39\u001b[0m     \u001b[0mprint\u001b[0m\u001b[1;33m(\u001b[0m\u001b[1;34m\"{}:제조사:{}\\t 모델명:{}\\t 배기량:{}\\t 제조년도:{}\\t 차종:{}\"\u001b[0m\u001b[1;33m.\u001b[0m\u001b[0mformat\u001b[0m\u001b[1;33m(\u001b[0m\u001b[0mi\u001b[0m\u001b[1;33m,\u001b[0m\u001b[0mresult\u001b[0m\u001b[1;33m[\u001b[0m\u001b[0mi\u001b[0m\u001b[1;33m]\u001b[0m\u001b[1;33m.\u001b[0m\u001b[0mmManu\u001b[0m\u001b[1;33m,\u001b[0m \u001b[0mresult\u001b[0m\u001b[1;33m[\u001b[0m\u001b[0mi\u001b[0m\u001b[1;33m]\u001b[0m\u001b[1;33m.\u001b[0m\u001b[0mmModel\u001b[0m\u001b[1;33m,\u001b[0m \u001b[0mresult\u001b[0m\u001b[1;33m[\u001b[0m\u001b[0mi\u001b[0m\u001b[1;33m]\u001b[0m\u001b[1;33m.\u001b[0m\u001b[0mmdispl\u001b[0m\u001b[1;33m,\u001b[0m \u001b[0mresult\u001b[0m\u001b[1;33m[\u001b[0m\u001b[0mi\u001b[0m\u001b[1;33m]\u001b[0m\u001b[1;33m.\u001b[0m\u001b[0mmYear\u001b[0m\u001b[1;33m,\u001b[0m \u001b[0mresult\u001b[0m\u001b[1;33m[\u001b[0m\u001b[0mi\u001b[0m\u001b[1;33m]\u001b[0m\u001b[1;33m.\u001b[0m\u001b[0mmClass\u001b[0m\u001b[1;33m)\u001b[0m\u001b[1;33m)\u001b[0m\u001b[1;33m\u001b[0m\u001b[1;33m\u001b[0m\u001b[0m\n",
      "\u001b[1;31mTypeError\u001b[0m: 'int' object is not iterable"
     ]
    }
   ],
   "source": [
    "# 4. \"audi\"에서 생산한 자동차 중에 어떤 자동차 모델의 hwy(고속도로 연비)가 높은지 알아보려고 한다.\n",
    "#  \"audi\"에서 생산한 자동차 중 hwy가 1~5위에 해당하는 자동차의 데이터를 출력하세요.\n",
    "\n",
    "# import operator\n",
    "# def extract_manu(x):\n",
    "#     bLis=[]\n",
    "#     for i in range(len(mpgdata)):\n",
    "#         if mpgdata[i].mManu == x:\n",
    "#             bLis.append(mpgdata[i])\n",
    "#     sorted_result = sorted(bLis, key=operator.attrgetter(\"mHwy\"))\n",
    "#     return sorted_result\n",
    "    \n",
    "# extract_manu(\"audi\")\n",
    "\n",
    "import operator\n",
    "def extract_manu(x):\n",
    "    bLis=[]\n",
    "    for i in range(len(mpgdata)):\n",
    "        if mpgdata[i].mManu == x:\n",
    "            bLis.append(mpgdata[i])\n",
    "    sorted_result = sorted(bLis, key=operator.attrgetter(\"mHwy\"))\n",
    "    return sorted_result[0:5]\n",
    "\n",
    "# import operator\n",
    "# def extract_manu(x):\n",
    "#     bLis = []\n",
    "#     for i in range(len(mpgdata)):\n",
    "#         if mpgdata[i].mManu == x:\n",
    "#             bLis.append(mpgdata[i])\n",
    "#     mpgdata = sorted(bLis, key=operator.attrgetter(\"mHwy\"))\n",
    "#     mpgdata = mpgdata[0:5]\n",
    "#     return mpgdata\n",
    "\n",
    "\n",
    "result = extract_manu(\"audi\")\n",
    "\n",
    "# m.print_all(result)\n",
    "for i in len(result):\n",
    "    print(\"{}:제조사:{}\\t 모델명:{}\\t 배기량:{}\\t 제조년도:{}\\t 차종:{}\".format(i,result[i].mManu, result[i].mModel, result[i].mdispl, result[i].mYear, result[i].mClass))"
   ]
  },
  {
   "cell_type": "code",
   "execution_count": null,
   "metadata": {},
   "outputs": [],
   "source": []
  },
  {
   "cell_type": "code",
   "execution_count": null,
   "metadata": {},
   "outputs": [],
   "source": []
  }
 ],
 "metadata": {
  "kernelspec": {
   "display_name": "[CPU_ENV]",
   "language": "python",
   "name": "cpu_env"
  },
  "language_info": {
   "codemirror_mode": {
    "name": "ipython",
    "version": 3
   },
   "file_extension": ".py",
   "mimetype": "text/x-python",
   "name": "python",
   "nbconvert_exporter": "python",
   "pygments_lexer": "ipython3",
   "version": "3.6.9"
  }
 },
 "nbformat": 4,
 "nbformat_minor": 2
}
