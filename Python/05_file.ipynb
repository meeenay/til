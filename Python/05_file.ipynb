{
 "cells": [
  {
   "cell_type": "code",
   "execution_count": 11,
   "metadata": {},
   "outputs": [
    {
     "name": "stdout",
     "output_type": "stream",
     "text": [
      "홍길동,18,7,19\n",
      "최길동,58,70,15\n",
      "아이유,92,94,99\n",
      "김연아,17,20,22\n",
      "이선희,76,25,14\n",
      "강감찬,90,19,71\n",
      "신사임당,31,23,16"
     ]
    },
    {
     "data": {
      "text/plain": [
       "'\\n홍길동,18,7,19\\n최길동,58,70,15\\n아이유,92,94,99\\n김연아,17,20,22\\n이선희,76,25,14\\n강감찬,90,19,71\\n신사임당,31,23,16\\n'"
      ]
     },
     "execution_count": 11,
     "metadata": {},
     "output_type": "execute_result"
    }
   ],
   "source": [
    "'''\n",
    "python의 기본 파일처리\n",
    "\n",
    "먼저 file handling을 획득해야 한다\n",
    "사용할 데이터파일을 오픈한다\n",
    "용도는 두가지 (1)읽기용도 (2)쓰기용도\n",
    "사용할 파일은 python Working directory에 배치한다\n",
    "'''\n",
    "# 핸들을 만들어주는 작업\n",
    "file1 = open(\"student_score.txt\",\"r\")   \n",
    "file2 = open(\"backup.txt\",\"w\") #file 1을 복사해 backup 자료를 만들것\n",
    "\n",
    "'''\n",
    "학생 성적파일에서 한 줄씩 읽어와 \n",
    "output consle에 출력하고 해당 내용을 backup 파일에 저장할 예정 \n",
    "제어문을 이용하는데, \n",
    "반복 횟수를 알 때는 for를 모를 때는 while은 반복횟수를 모를 때 사용하면 좋다 \n",
    "\n",
    "<조건> while 파일끝이 아닐동안: <- 프로그램적으로 작성할 수 없다\n",
    "\n",
    "'''\n",
    "\n",
    "# while True:  #무한히 돌아라\n",
    "#     line = file1.readline()   # 한 줄을 읽어서\n",
    "#     print(line)              # 콘솔에 찍어라\n",
    "#     if not line:             # 탈출조건 # 빈문자열은 false임을 활용\n",
    "#         break               # 가장 가까운 반복문 1개만 탈출\n",
    "\n",
    "''' 결과는 다음과 같이 나온다. \n",
    "\n",
    "홍길동,18,7,19\n",
    "\n",
    "최길동,58,70,15\n",
    "\n",
    "아이유,92,94,99\n",
    "\n",
    "김연아,17,20,22\n",
    "\n",
    "이선희,76,25,14\n",
    "\n",
    "강감찬,90,19,71\n",
    "\n",
    "신사임당,31,23,16\n",
    "\n",
    "줄바꿈이 있는 이유는 아래와 같이 개행문자(\\n)가 들어가 있기 때문\n",
    "홍길동,18,7,19(개행문자 \\n)\n",
    "최길동,58,70,15(개행문자 \\n)\n",
    "\n",
    "줄바꿈을 바꾸려면 print문에 end 옵션을 달아야 한다\n",
    "\n",
    "'''        \n",
    "\n",
    "while True:  #무한히 돌아라\n",
    "    line = file1.readline()   # 한 줄을 읽어서\n",
    "    print(line, end=\"\")        # 콘솔에 찍되, 한 줄 띄우지 마라\n",
    "    if not line:             # 탈출조건 # 빈문자열은 false임을 활용\n",
    "        break               # 가장 가까운 반복문 1개만 탈출\n",
    "    file2.write(line)     # 여기까지만 돌리면, 파일이 생성되어있지 않다. \n",
    "\n",
    "file1.close()  # 파일생성이 되려면 파일을 저장하고 닫아야 한다\n",
    "file2.close()\n",
    "    \n",
    "    \n",
    "'''\n",
    "홍길동,18,7,19\n",
    "최길동,58,70,15\n",
    "아이유,92,94,99\n",
    "김연아,17,20,22\n",
    "이선희,76,25,14\n",
    "강감찬,90,19,71\n",
    "신사임당,31,23,16\n",
    "'''\n",
    "        \n"
   ]
  },
  {
   "cell_type": "code",
   "execution_count": null,
   "metadata": {},
   "outputs": [],
   "source": [
    "## 문제 8\n",
    "\n",
    "## student_score. txt의 내용을 읽어서\n",
    "## 학생성적에 대한 전체 평균을 구하고\n",
    "## 성적순으로 출력해라\n",
    "## 출력형식: 이름, 성적평균, 등수\n",
    "\n",
    "file1 = open(\"student_score.txt\",\"r\")\n",
    "\n",
    "LList = []\n",
    "DDict = {}\n",
    "while True:\n",
    "    line = file1.readline()\n",
    "    line = line.strip('\\n')\n",
    "    LList = line.split(',')\n",
    "#     avg_score = sum(sep[2], sep[3], sep[4])/3\n",
    "#     DDict setdefault('name', sep[1])\n",
    "#     DDict[avg_score] = sum(sep[2],sep[3], [sep[4].split()]\n",
    "#    LList.append(line.split(','))\n",
    "    if not line:\n",
    "        break\n",
    "    \n",
    "print(LList)\n",
    "\n"
   ]
  }
 ],
 "metadata": {
  "kernelspec": {
   "display_name": "[CPU_ENV]",
   "language": "python",
   "name": "cpu_env"
  },
  "language_info": {
   "codemirror_mode": {
    "name": "ipython",
    "version": 3
   },
   "file_extension": ".py",
   "mimetype": "text/x-python",
   "name": "python",
   "nbconvert_exporter": "python",
   "pygments_lexer": "ipython3",
   "version": "3.6.9"
  }
 },
 "nbformat": 4,
 "nbformat_minor": 2
}
