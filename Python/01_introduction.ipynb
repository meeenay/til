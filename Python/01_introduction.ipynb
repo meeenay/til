{
 "cells": [
  {
   "cell_type": "code",
   "execution_count": null,
   "metadata": {},
   "outputs": [],
   "source": [
    "# 한줄 주석이에요\n",
    "# 여러줄 주석은 \"\"\" \"\"\" 혹은 ''' '''\n",
    "\n",
    "\n",
    "\"\"\"\n",
    "여러줄 주석\n",
    "은\n",
    "이렇게 입력\n",
    "\n",
    "\"\"\"\n",
    "\n",
    "\n",
    "'''\n",
    "single quatation markt도\n",
    "가능하다\n",
    "\n",
    "'''\n",
    "\n"
   ]
  },
  {
   "cell_type": "code",
   "execution_count": 10,
   "metadata": {
    "scrolled": true
   },
   "outputs": [
    {
     "name": "stdout",
     "output_type": "stream",
     "text": [
      "['False', 'None', 'True', 'and', 'as', 'assert', 'break', 'class', 'continue', 'def', 'del', 'elif', 'else', 'except', 'finally', 'for', 'from', 'global', 'if', 'import', 'in', 'is', 'lambda', 'nonlocal', 'not', 'or', 'pass', 'raise', 'return', 'try', 'while', 'with', 'yield']\n"
     ]
    }
   ],
   "source": [
    "# python의 keyword\n",
    "\n",
    "# keyword module을 로딩해야 한다\n",
    "import keyword\n",
    "\n",
    "# output 영역에 출력할 때 사용하는 함수: print()\n",
    "print(keyword.kwlist)"
   ]
  },
  {
   "cell_type": "code",
   "execution_count": 12,
   "metadata": {},
   "outputs": [
    {
     "data": {
      "text/plain": [
       "200"
      ]
     },
     "execution_count": 12,
     "metadata": {},
     "output_type": "execute_result"
    }
   ],
   "source": [
    "##변수를 생성하고 삭제해 보자 \n",
    "\n",
    "var1 = 100;\n",
    "var2 = 200;\n",
    "\n",
    "var1\n",
    "var2"
   ]
  },
  {
   "cell_type": "code",
   "execution_count": 14,
   "metadata": {},
   "outputs": [
    {
     "name": "stdout",
     "output_type": "stream",
     "text": [
      "100\n",
      "var2의 값은 :  200\n"
     ]
    }
   ],
   "source": [
    "##삭제되지 않으려면 print()를 사용\n",
    "\n",
    "var1 = 100;  # : 는 생략 가능\n",
    "var2 = 200;\n",
    "\n",
    "print(var1)           # output에 출력할 때 print()를 이용\n",
    "del var2\n",
    "print(\"var2의 값은 : \", var2) # 인자를 여러개 줄 수 있다\n",
    "\n"
   ]
  }
 ],
 "metadata": {
  "kernelspec": {
   "display_name": "[CPU_ENV]",
   "language": "python",
   "name": "cpu_env"
  },
  "language_info": {
   "codemirror_mode": {
    "name": "ipython",
    "version": 3
   },
   "file_extension": ".py",
   "mimetype": "text/x-python",
   "name": "python",
   "nbconvert_exporter": "python",
   "pygments_lexer": "ipython3",
   "version": "3.6.9"
  }
 },
 "nbformat": 4,
 "nbformat_minor": 2
}
