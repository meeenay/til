{
 "cells": [
  {
   "cell_type": "code",
   "execution_count": 4,
   "metadata": {},
   "outputs": [
    {
     "name": "stdout",
     "output_type": "stream",
     "text": [
      "1등: 아이유\t  95.0점\n",
      "2등: 강감찬\t  60.0점\n",
      "3등: 최길동\t  47.7점\n",
      "4등: 이선희\t  38.3점\n",
      "5등: 신사임당\t  23.3점\n",
      "6등: 김연아\t  19.7점\n",
      "7등: 홍길동\t  14.7점\n"
     ]
    }
   ],
   "source": [
    "## 문제 8\n",
    "\n",
    "## student_score. txt의 내용을 읽어서\n",
    "## 학생성적에 대한 전체 평균을 구하고\n",
    "## 성적순으로 출력해라\n",
    "## 출력형식: 이름, 성적평균, 등수\n",
    "\n",
    "\n",
    "'''리스트 활용 + lambda 정렬 '''\n",
    "\n",
    "file1 = open(\"student_score.txt\",\"r\")\n",
    "\n",
    "eachlist = []\n",
    "\n",
    "while True:\n",
    "    LList = []\n",
    "    line = file1.readline()\n",
    "    line = line.strip('\\n')\n",
    "    if not line:\n",
    "        break  \n",
    "    sep = line.split(',')\n",
    "    sep[1]= int(sep[1])\n",
    "    sep[2]=int(sep[2])\n",
    "    sep[3]=int(sep[3])\n",
    "    avg_score = (sep[1]+sep[2]+sep[3])/3\n",
    "    LList.append(sep[0])\n",
    "    LList.append(avg_score)\n",
    "    eachlist.append(LList)\n",
    "\n",
    "\n",
    "# for i in range(length(eachlist)):\n",
    "#     eachlist[i][1]\n",
    "    \n",
    "\n",
    "a = sorted(eachlist, key = lambda eachlist: eachlist[1],reverse = True)\n",
    "\n",
    "for i in range(len(a)):\n",
    "    print(\"{}등: {}\\t  {}점\".format(i+1,a[i][0],round(a[i][1],1)))\n"
   ]
  },
  {
   "cell_type": "code",
   "execution_count": 3,
   "metadata": {},
   "outputs": [
    {
     "name": "stdout",
     "output_type": "stream",
     "text": [
      "['홍길동', 14.666666666666666]\n",
      "[['홍길동', 14.666666666666666]]\n",
      "[]\n",
      "['최길동', 47.666666666666664]\n",
      "[['최길동', 47.666666666666664], ['최길동', 47.666666666666664]]\n",
      "[]\n",
      "['아이유', 95.0]\n",
      "[['아이유', 95.0], ['아이유', 95.0], ['아이유', 95.0]]\n",
      "[]\n",
      "['김연아', 19.666666666666668]\n",
      "[['김연아', 19.666666666666668], ['김연아', 19.666666666666668], ['김연아', 19.666666666666668], ['김연아', 19.666666666666668]]\n",
      "[]\n",
      "['이선희', 38.333333333333336]\n",
      "[['이선희', 38.333333333333336], ['이선희', 38.333333333333336], ['이선희', 38.333333333333336], ['이선희', 38.333333333333336], ['이선희', 38.333333333333336]]\n",
      "[]\n",
      "['강감찬', 60.0]\n",
      "[['강감찬', 60.0], ['강감찬', 60.0], ['강감찬', 60.0], ['강감찬', 60.0], ['강감찬', 60.0], ['강감찬', 60.0]]\n",
      "[]\n",
      "['신사임당', 23.333333333333332]\n",
      "[['신사임당', 23.333333333333332], ['신사임당', 23.333333333333332], ['신사임당', 23.333333333333332], ['신사임당', 23.333333333333332], ['신사임당', 23.333333333333332], ['신사임당', 23.333333333333332], ['신사임당', 23.333333333333332]]\n",
      "[]\n",
      "[[], [], [], [], [], [], []]\n"
     ]
    }
   ],
   "source": [
    "'''잘못된 풀이 : 리스트 활용 + lambda 정렬 '''\n",
    "\n",
    "### 지역변수와 글로벌변수, 자료의 주소 저장과 값저장의 차이를 이해하지 못해서 \n",
    "## 오류를 낸 풀이 !!!\n",
    "\n",
    "file1 = open(\"student_score.txt\",\"r\")\n",
    "\n",
    "eachlist = []\n",
    "LList = []\n",
    "while True:\n",
    "    line = file1.readline()\n",
    "    line = line.strip('\\n')\n",
    "    if not line:\n",
    "        break  \n",
    "    sep = line.split(',')\n",
    "    sep[1]= int(sep[1])\n",
    "    sep[2]=int(sep[2])\n",
    "    sep[3]=int(sep[3])\n",
    "    avg_score = (sep[1]+sep[2]+sep[3])/3\n",
    "    LList.append(sep[0])\n",
    "    LList.append(avg_score)\n",
    "    print(LList)\n",
    "    eachlist.append(LList)\n",
    "    print(eachlist)\n",
    "    del LList[1]\n",
    "    del LList[0]\n",
    "    print(LList)\n",
    "\n",
    "print(eachlist)\n",
    "    "
   ]
  },
  {
   "cell_type": "code",
   "execution_count": 2,
   "metadata": {},
   "outputs": [
    {
     "ename": "SyntaxError",
     "evalue": "invalid syntax (<ipython-input-2-1a4b23cc0c3c>, line 19)",
     "output_type": "error",
     "traceback": [
      "\u001b[1;36m  File \u001b[1;32m\"<ipython-input-2-1a4b23cc0c3c>\"\u001b[1;36m, line \u001b[1;32m19\u001b[0m\n\u001b[1;33m    avg_score = (sep[1]+sep[2]+sep[3])/3\u001b[0m\n\u001b[1;37m            ^\u001b[0m\n\u001b[1;31mSyntaxError\u001b[0m\u001b[1;31m:\u001b[0m invalid syntax\n"
     ]
    }
   ],
   "source": [
    "'''딕트 + lambda 정렬 '''\n",
    "\n",
    "file1 = open(\"student_score.txt\",\"r\")\n",
    "\n",
    "eachlist = []\n",
    "ddict = {}\n",
    "\n",
    "while True:\n",
    "    LList = []\n",
    "    line = file1.readline()\n",
    "    line = line.strip('\\n')\n",
    "    if not line:\n",
    "        break  \n",
    "    sep = line.split(',')\n",
    "    sep[1], sep[2], sep[3] = map(int, input(sep[1], sep[2], sep[3])\n",
    "#     sep[1]= int(sep[1])\n",
    "#     sep[2]=int(sep[2])\n",
    "#     sep[3]=int(sep[3])\n",
    "    avg_score = (sep[1]+sep[2]+sep[3])/3\n",
    "    ddict[name] = sep[0]\n",
    "    ddict[avg_score] \n",
    "\n",
    "\n",
    "# for i in range(length(eachlist)):\n",
    "#     eachlist[i][1]\n",
    "    \n",
    "\n",
    "a = sorted(eachlist, key = lambda eachlist: eachlist[1],reverse = True)\n",
    "\n",
    "for i in range(len(a)):\n",
    "    print(\"{}등: {}  {}점\".format(i+1,a[i][0],round(a[i][1],1)))"
   ]
  },
  {
   "cell_type": "code",
   "execution_count": 1,
   "metadata": {},
   "outputs": [
    {
     "name": "stdout",
     "output_type": "stream",
     "text": [
      "학생의 이름은: 홍길동, 평균은: 14.67\n",
      "학생의 이름은: 최길동, 평균은: 47.67\n",
      "학생의 이름은: 아이유, 평균은: 95.00\n",
      "학생의 이름은: 김연아, 평균은: 19.67\n",
      "학생의 이름은: 이선희, 평균은: 38.33\n",
      "학생의 이름은: 강감찬, 평균은: 60.00\n",
      "학생의 이름은: 신사임당, 평균은: 23.33\n",
      "학생의 이름은: 홍길동, 평균은: 14.67\n",
      "학생의 이름은: 김연아, 평균은: 19.67\n",
      "학생의 이름은: 신사임당, 평균은: 23.33\n",
      "학생의 이름은: 이선희, 평균은: 38.33\n",
      "학생의 이름은: 최길동, 평균은: 47.67\n",
      "학생의 이름은: 강감찬, 평균은: 60.00\n",
      "학생의 이름은: 아이유, 평균은: 95.00\n"
     ]
    }
   ],
   "source": [
    "'''Class를 활용하는 선생님 풀이 '''    \n",
    "## library 작성함 (student_score)\n",
    "\n",
    "import student_score as ss\n",
    "import operator # list안의 정렬을 쉽게 할 수 있다\n",
    "\n",
    "result = list()\n",
    "studentFile = open(\"student_score.txt\",\"r\")\n",
    "\n",
    "while True: \n",
    "    stu = studentFile.readline()\n",
    "    if stu == \"\":\n",
    "        break\n",
    "    stu = stu.strip('\\n')\n",
    "    stu_list = stu.split(\",\")    # ,기준으로 문자열을 분리하여 list로 리턴\n",
    "                                 # ['홍길동','18','7','19']\n",
    "    result.append(ss.Student(stu_list[0],stu_list[1],stu_list[2],stu_list[3]))\n",
    "    \n",
    "    \n",
    "# 정상적으로 데이터가 생성되었는지 확인\n",
    "# print를 사용할 수도 있지만, 모듈에 출력함수를 하나 더 만들 것\n",
    "for s in result:\n",
    "    s.print_student()\n",
    "    \n",
    "# 정렬해보자 operator.attrgetter() : 필드값(property값)을 뽑아주는 operator모듈의 함수\n",
    "sorted_result = sorted(result, key=operator.attrgetter(\"sAvg\"))\n",
    "\n",
    "# 정렬된 결과를 확인해보자\n",
    "for s in sorted_result:\n",
    "    s.print_student()    \n",
    "    \n",
    "\n"
   ]
  },
  {
   "cell_type": "code",
   "execution_count": null,
   "metadata": {},
   "outputs": [],
   "source": []
  }
 ],
 "metadata": {
  "kernelspec": {
   "display_name": "[CPU_ENV]",
   "language": "python",
   "name": "cpu_env"
  },
  "language_info": {
   "codemirror_mode": {
    "name": "ipython",
    "version": 3
   },
   "file_extension": ".py",
   "mimetype": "text/x-python",
   "name": "python",
   "nbconvert_exporter": "python",
   "pygments_lexer": "ipython3",
   "version": "3.6.9"
  }
 },
 "nbformat": 4,
 "nbformat_minor": 2
}
